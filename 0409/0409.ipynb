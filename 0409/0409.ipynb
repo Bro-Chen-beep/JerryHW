{
 "cells": [
  {
   "cell_type": "code",
   "execution_count": 30,
   "metadata": {},
   "outputs": [
    {
     "name": "stdout",
     "output_type": "stream",
     "text": [
      "名稱: Mcdonald\n",
      "方式: roast\n"
     ]
    }
   ],
   "source": [
    "class restaurant():\n",
    "    def __init__(self,name,way):\n",
    "        self.name = name\n",
    "        self.way = way \n",
    "    def describe(self):\n",
    "        print(\"名稱:\",self.name)\n",
    "        print(\"方式:\",self.way)  \n",
    "mc = restaurant('Mcdonald','roast')\n",
    "mc.describe()\n",
    "\n"
   ]
  },
  {
   "cell_type": "code",
   "execution_count": 31,
   "metadata": {},
   "outputs": [
    {
     "name": "stdout",
     "output_type": "stream",
     "text": [
      "我喜歡的口味： ['牛奶', '巧克力', '巧克力牛奶']\n"
     ]
    }
   ],
   "source": [
    "class Icecreamstand(restaurant):\n",
    "    def __init__(self):\n",
    "        self.flavors = [\"牛奶\", \"巧克力\", \"巧克力牛奶\"]\n",
    "    def show_flavors(self):\n",
    "        print(\"我喜歡的口味：\",self.flavors)\n",
    "\n",
    "ic = Icecreamstand()\n",
    "ic.show_flavors()"
   ]
  },
  {
   "cell_type": "code",
   "execution_count": 20,
   "metadata": {},
   "outputs": [],
   "source": [
    "class A(object): \n",
    "\n",
    "    def go(self): \n",
    "\n",
    "        print (\"go A go!\")  \n",
    "\n",
    "\n",
    "\n",
    "    def stop(self): \n",
    "\n",
    "        print (\"stop A stop!\") \n",
    "\n",
    " \n",
    "\n",
    "    def pause(self): \n",
    "\n",
    "        raise Exception(\"Not Implemented\")\n",
    "\n",
    "\n",
    "\n",
    "\n",
    "\n",
    "class B(A): \n",
    "\n",
    "    def go(self): \n",
    "\n",
    "        super(B, self).go() \n",
    "\n",
    "        print (\"go B go!\")\n",
    "\n",
    "\n",
    "\n",
    " \n",
    "\n",
    "class C(A): \n",
    "\n",
    "    def go(self): \n",
    "\n",
    "        super(C, self).go() \n",
    "\n",
    "        print (\"go C go!\")\n",
    "\n",
    " \n",
    "\n",
    "    def stop(self): \n",
    "\n",
    "        super(C, self).stop()\n",
    "\n",
    "        print (\"stop C stop!\") \n",
    "\n",
    "\n",
    "\n",
    "\n",
    "class D(B,C): \n",
    "\n",
    "    def go(self): \n",
    "\n",
    "        super(D, self).go() \n",
    "\n",
    "        print (\"go D go!\")\n",
    "\n",
    " \n",
    "\n",
    "    def stop(self): \n",
    "\n",
    "        super(D, self).stop()\n",
    "\n",
    "        print (\"stop D stop!\") \n",
    "\n",
    "\n",
    "\n",
    "    def pause(self): \n",
    "\n",
    "        print (\"wait D wait!\") \n",
    "\n",
    "\n",
    "\n",
    "\n",
    "\n",
    "class E(B,C):\n",
    "\n",
    "    pass\n",
    "\n"
   ]
  },
  {
   "cell_type": "code",
   "execution_count": 21,
   "metadata": {},
   "outputs": [],
   "source": [
    "a = A() \n",
    "b = B() \n",
    "c = C() \n",
    "d = D() \n",
    "e = E()"
   ]
  },
  {
   "cell_type": "code",
   "execution_count": 22,
   "metadata": {},
   "outputs": [
    {
     "name": "stdout",
     "output_type": "stream",
     "text": [
      "go A go!\n",
      "go A go!\n",
      "go B go!\n",
      "go A go!\n",
      "go C go!\n",
      "go A go!\n",
      "go C go!\n",
      "go B go!\n",
      "go D go!\n",
      "go A go!\n",
      "go C go!\n",
      "go B go!\n",
      "stop A stop!\n",
      "stop A stop!\n",
      "stop A stop!\n",
      "stop C stop!\n",
      "stop A stop!\n",
      "stop C stop!\n",
      "stop D stop!\n",
      "stop A stop!\n",
      "stop C stop!\n"
     ]
    },
    {
     "ename": "Exception",
     "evalue": "Not Implemented",
     "output_type": "error",
     "traceback": [
      "\u001b[1;31m---------------------------------------------------------------------------\u001b[0m",
      "\u001b[1;31mException\u001b[0m                                 Traceback (most recent call last)",
      "\u001b[1;32m<ipython-input-22-fb0bedf8ea92>\u001b[0m in \u001b[0;36m<module>\u001b[1;34m()\u001b[0m\n\u001b[0;32m     13\u001b[0m \u001b[1;33m\u001b[0m\u001b[0m\n\u001b[0;32m     14\u001b[0m \u001b[1;33m\u001b[0m\u001b[0m\n\u001b[1;32m---> 15\u001b[1;33m \u001b[0ma\u001b[0m\u001b[1;33m.\u001b[0m\u001b[0mpause\u001b[0m\u001b[1;33m(\u001b[0m\u001b[1;33m)\u001b[0m\u001b[1;33m\u001b[0m\u001b[0m\n\u001b[0m\u001b[0;32m     16\u001b[0m \u001b[0mb\u001b[0m\u001b[1;33m.\u001b[0m\u001b[0mpause\u001b[0m\u001b[1;33m(\u001b[0m\u001b[1;33m)\u001b[0m\u001b[1;33m\u001b[0m\u001b[0m\n\u001b[0;32m     17\u001b[0m \u001b[0mc\u001b[0m\u001b[1;33m.\u001b[0m\u001b[0mpause\u001b[0m\u001b[1;33m(\u001b[0m\u001b[1;33m)\u001b[0m\u001b[1;33m\u001b[0m\u001b[0m\n",
      "\u001b[1;32m<ipython-input-20-31f5f92fe7f1>\u001b[0m in \u001b[0;36mpause\u001b[1;34m(self)\u001b[0m\n\u001b[0;32m     15\u001b[0m     \u001b[1;32mdef\u001b[0m \u001b[0mpause\u001b[0m\u001b[1;33m(\u001b[0m\u001b[0mself\u001b[0m\u001b[1;33m)\u001b[0m\u001b[1;33m:\u001b[0m\u001b[1;33m\u001b[0m\u001b[0m\n\u001b[0;32m     16\u001b[0m \u001b[1;33m\u001b[0m\u001b[0m\n\u001b[1;32m---> 17\u001b[1;33m         \u001b[1;32mraise\u001b[0m \u001b[0mException\u001b[0m\u001b[1;33m(\u001b[0m\u001b[1;34m\"Not Implemented\"\u001b[0m\u001b[1;33m)\u001b[0m\u001b[1;33m\u001b[0m\u001b[0m\n\u001b[0m\u001b[0;32m     18\u001b[0m \u001b[1;33m\u001b[0m\u001b[0m\n\u001b[0;32m     19\u001b[0m \u001b[1;33m\u001b[0m\u001b[0m\n",
      "\u001b[1;31mException\u001b[0m: Not Implemented"
     ]
    }
   ],
   "source": [
    "a.go() \n",
    "b.go() \n",
    "c.go() \n",
    "d.go() \n",
    "e.go() \n",
    "\n",
    "\n",
    "a.stop() \n",
    "b.stop() \n",
    "c.stop() \n",
    "d.stop() \n",
    "e.stop() \n",
    "\n",
    "\n",
    "a.pause() \n",
    "b.pause() \n",
    "c.pause() \n",
    "d.pause() \n",
    "e.pause()"
   ]
  },
  {
   "cell_type": "code",
   "execution_count": null,
   "metadata": {},
   "outputs": [],
   "source": []
  }
 ],
 "metadata": {
  "kernelspec": {
   "display_name": "Python 3",
   "language": "python",
   "name": "python3"
  },
  "language_info": {
   "codemirror_mode": {
    "name": "ipython",
    "version": 3
   },
   "file_extension": ".py",
   "mimetype": "text/x-python",
   "name": "python",
   "nbconvert_exporter": "python",
   "pygments_lexer": "ipython3",
   "version": "3.6.4"
  }
 },
 "nbformat": 4,
 "nbformat_minor": 2
}
