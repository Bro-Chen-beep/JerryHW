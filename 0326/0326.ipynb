{
 "cells": [
  {
   "cell_type": "code",
   "execution_count": 17,
   "metadata": {},
   "outputs": [
    {
     "name": "stdout",
     "output_type": "stream",
     "text": [
      "輸入數字:15\n"
     ]
    },
    {
     "data": {
      "text/plain": [
       "[115]"
      ]
     },
     "execution_count": 17,
     "metadata": {},
     "output_type": "execute_result"
    }
   ],
   "source": [
    "a = [int(x) for x in input(\"輸入數字:\").split()]\n",
    "[*map(lambda x: x + 100, a)]"
   ]
  },
  {
   "cell_type": "code",
   "execution_count": 35,
   "metadata": {},
   "outputs": [
    {
     "name": "stdout",
     "output_type": "stream",
     "text": [
      "a+b= 8\n"
     ]
    },
    {
     "data": {
      "text/plain": [
       "('a*b=', 15)"
      ]
     },
     "execution_count": 35,
     "metadata": {},
     "output_type": "execute_result"
    }
   ],
   "source": [
    "def document_it(func): \n",
    "    def new_function(*args, **kwargs): \n",
    "        result = func(*args, **kwargs) \n",
    "        print(\"a+b=\",result)\n",
    "        result=1\n",
    "        for v in args:\n",
    "            result *= v\n",
    "        return \"a*b=\" ,result\n",
    "    return new_function \n",
    "@document_it\n",
    "def add_ints(a, b): \n",
    "    return a + b \n",
    "add_ints(3, 5) "
   ]
  },
  {
   "cell_type": "code",
   "execution_count": 2,
   "metadata": {},
   "outputs": [
    {
     "name": "stdout",
     "output_type": "stream",
     "text": [
      "請輸入整數:12.5\n",
      "出錯，請重新輸入\n"
     ]
    }
   ],
   "source": [
    "try:\n",
    "    a=input(\"請輸入整數:\")\n",
    "    if int(a) == a :\n",
    "        print(a)\n",
    "except :\n",
    "    print(\"出錯，請重新輸入\")\n",
    "\n"
   ]
  },
  {
   "cell_type": "code",
   "execution_count": 3,
   "metadata": {},
   "outputs": [
    {
     "ename": "ModuleNotFoundError",
     "evalue": "No module named 'source'",
     "output_type": "error",
     "traceback": [
      "\u001b[1;31m---------------------------------------------------------------------------\u001b[0m",
      "\u001b[1;31mModuleNotFoundError\u001b[0m                       Traceback (most recent call last)",
      "\u001b[1;32m<ipython-input-3-4baffc0111e9>\u001b[0m in \u001b[0;36m<module>\u001b[1;34m()\u001b[0m\n\u001b[1;32m----> 1\u001b[1;33m \u001b[1;32mfrom\u001b[0m \u001b[0msource\u001b[0m \u001b[1;32mimport\u001b[0m \u001b[0mcalculator\u001b[0m\u001b[1;33m\u001b[0m\u001b[0m\n\u001b[0m",
      "\u001b[1;31mModuleNotFoundError\u001b[0m: No module named 'source'"
     ]
    }
   ],
   "source": [
    "from source import calculator"
   ]
  },
  {
   "cell_type": "code",
   "execution_count": null,
   "metadata": {},
   "outputs": [],
   "source": []
  }
 ],
 "metadata": {
  "kernelspec": {
   "display_name": "Python 3",
   "language": "python",
   "name": "python3"
  },
  "language_info": {
   "codemirror_mode": {
    "name": "ipython",
    "version": 3
   },
   "file_extension": ".py",
   "mimetype": "text/x-python",
   "name": "python",
   "nbconvert_exporter": "python",
   "pygments_lexer": "ipython3",
   "version": "3.6.4"
  }
 },
 "nbformat": 4,
 "nbformat_minor": 2
}
